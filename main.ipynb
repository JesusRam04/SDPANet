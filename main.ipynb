{
 "cells": [
  {
   "cell_type": "code",
   "execution_count": 1,
   "metadata": {},
   "outputs": [
    {
     "ename": "ModuleNotFoundError",
     "evalue": "No module named 'pandas'",
     "output_type": "error",
     "traceback": [
      "\u001b[1;31m---------------------------------------------------------------------------\u001b[0m",
      "\u001b[1;31mModuleNotFoundError\u001b[0m                       Traceback (most recent call last)",
      "\u001b[1;32m<ipython-input-1-6a54e6870836>\u001b[0m in \u001b[0;36m<module>\u001b[1;34m\u001b[0m\n\u001b[1;32m----> 1\u001b[1;33m \u001b[1;32mfrom\u001b[0m \u001b[0mutils\u001b[0m\u001b[1;33m.\u001b[0m\u001b[0mdata_io\u001b[0m \u001b[1;32mimport\u001b[0m \u001b[0mgetGenerator\u001b[0m\u001b[1;33m\u001b[0m\u001b[1;33m\u001b[0m\u001b[0m\n\u001b[0m\u001b[0;32m      2\u001b[0m \u001b[1;32mfrom\u001b[0m \u001b[0mutils\u001b[0m\u001b[1;33m.\u001b[0m\u001b[0margs\u001b[0m \u001b[1;32mimport\u001b[0m \u001b[0mArgs\u001b[0m\u001b[1;33m,\u001b[0m \u001b[0mlist_of_param_dicts\u001b[0m\u001b[1;33m\u001b[0m\u001b[1;33m\u001b[0m\u001b[0m\n\u001b[0;32m      3\u001b[0m \u001b[1;32mfrom\u001b[0m \u001b[0mmodels\u001b[0m\u001b[1;33m.\u001b[0m\u001b[0mmodels\u001b[0m \u001b[1;32mimport\u001b[0m \u001b[0mSDPANet\u001b[0m\u001b[1;33m\u001b[0m\u001b[1;33m\u001b[0m\u001b[0m\n\u001b[0;32m      4\u001b[0m \u001b[1;32mfrom\u001b[0m \u001b[0mmodels\u001b[0m\u001b[1;33m.\u001b[0m\u001b[0mmodel_runner\u001b[0m \u001b[1;32mimport\u001b[0m \u001b[0mModelRunner\u001b[0m\u001b[1;33m\u001b[0m\u001b[1;33m\u001b[0m\u001b[0m\n\u001b[0;32m      5\u001b[0m \u001b[1;32mimport\u001b[0m \u001b[0mtorch\u001b[0m\u001b[1;33m\u001b[0m\u001b[1;33m\u001b[0m\u001b[0m\n",
      "\u001b[1;32mc:\\Users\\jesus\\OneDrive\\Documentos\\GitHub\\SDPANet\\utils\\data_io.py\u001b[0m in \u001b[0;36m<module>\u001b[1;34m\u001b[0m\n\u001b[0;32m      3\u001b[0m \"\"\"\n\u001b[0;32m      4\u001b[0m \u001b[1;33m\u001b[0m\u001b[0m\n\u001b[1;32m----> 5\u001b[1;33m \u001b[1;32mfrom\u001b[0m \u001b[0mutils\u001b[0m\u001b[1;33m.\u001b[0m\u001b[0m_libs_\u001b[0m \u001b[1;32mimport\u001b[0m \u001b[0mnp\u001b[0m\u001b[1;33m,\u001b[0m \u001b[0mpd\u001b[0m\u001b[1;33m,\u001b[0m \u001b[0mtorch\u001b[0m\u001b[1;33m,\u001b[0m \u001b[0mVariable\u001b[0m\u001b[1;33m\u001b[0m\u001b[1;33m\u001b[0m\u001b[0m\n\u001b[0m\u001b[0;32m      6\u001b[0m \u001b[1;32mimport\u001b[0m \u001b[0mjson\u001b[0m\u001b[1;33m\u001b[0m\u001b[1;33m\u001b[0m\u001b[0m\n\u001b[0;32m      7\u001b[0m \u001b[1;33m\u001b[0m\u001b[0m\n",
      "\u001b[1;32mc:\\Users\\jesus\\OneDrive\\Documentos\\GitHub\\SDPANet\\utils\\_libs_.py\u001b[0m in \u001b[0;36m<module>\u001b[1;34m\u001b[0m\n\u001b[0;32m     15\u001b[0m \u001b[1;31m# Computation\u001b[0m\u001b[1;33m\u001b[0m\u001b[1;33m\u001b[0m\u001b[1;33m\u001b[0m\u001b[0m\n\u001b[0;32m     16\u001b[0m \u001b[1;32mimport\u001b[0m \u001b[0mnumpy\u001b[0m \u001b[1;32mas\u001b[0m \u001b[0mnp\u001b[0m\u001b[1;33m\u001b[0m\u001b[1;33m\u001b[0m\u001b[0m\n\u001b[1;32m---> 17\u001b[1;33m \u001b[1;32mimport\u001b[0m \u001b[0mpandas\u001b[0m \u001b[1;32mas\u001b[0m \u001b[0mpd\u001b[0m\u001b[1;33m\u001b[0m\u001b[1;33m\u001b[0m\u001b[0m\n\u001b[0m\u001b[0;32m     18\u001b[0m \u001b[1;32mimport\u001b[0m \u001b[0mmath\u001b[0m\u001b[1;33m\u001b[0m\u001b[1;33m\u001b[0m\u001b[0m\n\u001b[0;32m     19\u001b[0m \u001b[1;32mimport\u001b[0m \u001b[0mtime\u001b[0m\u001b[1;33m\u001b[0m\u001b[1;33m\u001b[0m\u001b[0m\n",
      "\u001b[1;31mModuleNotFoundError\u001b[0m: No module named 'pandas'"
     ]
    }
   ],
   "source": [
    "from utils.data_io import getGenerator\n",
    "from utils.args import Args, list_of_param_dicts\n",
    "from models.models import SDPANet\n",
    "from models.model_runner import ModelRunner\n",
    "import torch\n",
    "import gc\n",
    "torch.backends.cudnn.enabled = False\n",
    "param_dict = dict(\n",
    "    data = ['./cainiao/1.json'],\n",
    "    main_taskpoint= [2],\n",
    "    task_span = [5],\n",
    "    train_share = [(0.9, 0.05)],\n",
    "    input_T = [56],\n",
    "    kernel_size = [3],\n",
    "    hidCNN = [56],\n",
    "    hidRNN = [128],\n",
    "    dropout = [0.2],\n",
    "    highway_window = [7],\n",
    "    clip = [10.],\n",
    "    epochs = [500],\n",
    "    batch_size =[128],\n",
    "    seed = [54321],\n",
    "    gpu = [0],\n",
    "    cuda = [True],\n",
    "    optim = ['adam'],\n",
    "    lr = [0.001],\n",
    "    L1Loss = [False],\n",
    "    skip_size=[32],\n",
    "    dilation_cycles=[2],\n",
    "    dilation_depth=[3]\n",
    ")\n",
    "\n",
    "if __name__ == '__main__':\n",
    "    params = list_of_param_dicts(param_dict)\n",
    "    for param in params:\n",
    "        cur_args = Args(param)\n",
    "        generator = getGenerator(cur_args.data)\n",
    "        data_gen = generator(cur_args.data,\n",
    "                             train_share=cur_args.train_share, input_T=cur_args.input_T,\n",
    "                             main_taskpoint=cur_args.main_taskpoint, task_span=cur_args.task_span,\n",
    "                             cuda=cur_args.cuda)\n",
    "        runner = ModelRunner(cur_args, data_gen, None)\n",
    "        runner.model = SDPANet(cur_args, data_gen)\n",
    "        runner.run()\n",
    "        runner.getMetrics()\n",
    "        del runner\n",
    "        gc.collect()\n"
   ]
  }
 ],
 "metadata": {
  "kernelspec": {
   "display_name": "pytorch_env",
   "language": "python",
   "name": "python3"
  },
  "language_info": {
   "codemirror_mode": {
    "name": "ipython",
    "version": 3
   },
   "file_extension": ".py",
   "mimetype": "text/x-python",
   "name": "python",
   "nbconvert_exporter": "python",
   "pygments_lexer": "ipython3",
   "version": "3.6.7"
  }
 },
 "nbformat": 4,
 "nbformat_minor": 2
}
